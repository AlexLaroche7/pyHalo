{
 "cells": [
  {
   "cell_type": "code",
   "execution_count": null,
   "metadata": {},
   "outputs": [],
   "source": [
    "from pyHalo.pyhalo import pyHalo\n",
    "import numpy as np\n",
    "from time import time\n",
    "import matplotlib.pyplot as plt"
   ]
  },
  {
   "cell_type": "markdown",
   "metadata": {},
   "source": [
    "## To generate realizations with pyHalo you first have to specify a number of keyword arguments to specify mass definitions, lens/source redshift, etc."
   ]
  },
  {
   "cell_type": "code",
   "execution_count": null,
   "metadata": {},
   "outputs": [],
   "source": [
    "zlens, zsource = 0.5, 2.\n",
    "rendering_volume = 'DOUBLE_CONE' # other option is CYLINDER\n",
    "cone_opening_angle = 6. # the opening angle of the cone inside which halos are rendered, specified in arcseconds\n",
    "# A reasonable choice would be opening_angle = 6 * R_ein, where R_ein is the Einstein radiuss of the lens in arcsec\n",
    "kwargs_halo_mass_function = {'geometry_type': rendering_volume}\n",
    "\n",
    "\n",
    "# properties of the realization\n",
    "mass_definition = 'TNFW' # truncated NFW profile, other options are \n",
    "# 'NFW', 'SIDM_TNFW' (has a core), 'PT_MASS' (point mass), 'SIS', 'PJAFFE' (truncated SIS)\n",
    "\n",
    "log_mlow = 6. # log(minimum halo mass)\n",
    "log_mhigh = 10 # log(maximum halo mass)\n",
    "power_law_index = -1.9 # logarithmic slope of the subhalo mass function (SHMF)\n",
    "delta_power_law_index = 0. # change in logarithmic slope applied to both the SHMF and line of sight HMF\n",
    "LOS_norm = 1. # rescales the line of sight halo mass function relative to Sheth-Tormen\n",
    "sigma_sub = 0.02 # normalization of the SHMF (same parameterization as Gilman et al. 2020)\n",
    "r_tidal = '0.25Rs' # subhalos are distributed in 3D following a cored NFW profile with a core radius r_tidal. \n",
    "# the scale radius is computed from the host halo mass you specify \n",
    "log_m_host = 13.\n",
    "\n",
    "# since we add halos to Universe we have to subtract what we add so that on \n",
    "# average the density of the Universe is rho_crit. This is accomplished by adding sheets of negative convergence;\n",
    "# use these keywords to specify in what mass range to compute the correction. Since we are adding halos everywhere between\n",
    "# 10^6 and 10^10 we'll keep these the same as log_mlow and log_mhigh\n",
    "log_mass_sheet_min = 6\n",
    "log_mass_sheet_max = 10\n",
    "\n",
    "# now we can create an instance of pyhalo, this assumes a default cosmology specified in pyhalo.defaults\n",
    "pyhalo = pyHalo(zlens, zsource, kwargs_halo_mass_function=kwargs_halo_mass_function)\n",
    "\n",
    "# This will assume a default mass-concentration relation using the Dimer and Joyce 2019 model\n",
    "t0 = time()\n",
    "realization_kwargs = {'mass_func_type': 'POWER_LAW', 'log_mlow': log_mlow, 'log_mhigh': log_mhigh, \n",
    "                      'log_mass_sheet_min': log_mlow, 'log_mass_sheet_max': log_mhigh, \n",
    "                      'mdef_main': 'TNFW','mdef_los': 'TNFW', 'sigma_sub': sigma_sub,\n",
    "                      'delta_power_law_index': delta_power_law_index, 'cone_opening_angle': cone_opening_angle, \n",
    "                      'log_m_host': log_m_host, 'power_law_index': power_law_index, 'r_tidal': r_tidal,\n",
    "                      'LOS_normalization': LOS_norm}\n",
    "\n",
    "# for line of sight + subhalos\n",
    "realization_type = 'composite_powerlaw'\n",
    "\n",
    "# this creates a list of realizations of length nrealizations\n",
    "realization = pyhalo.render(realization_type, realization_kwargs, nrealizations=1)[0]\n",
    "tend = time()\n",
    "Nhalos = len(realization.halos)\n",
    "print('rendered '+str(Nhalos)+' halos in '+str(tend - t0)+' sec')"
   ]
  },
  {
   "cell_type": "markdown",
   "metadata": {},
   "source": [
    "## pyhalo is designed to be used with the software lenstronomy (https://github.com/sibirrer/lenstronomy)\n",
    "## In one step, you can go from a pyhalo realization to an instance of LensModel"
   ]
  },
  {
   "cell_type": "code",
   "execution_count": null,
   "metadata": {},
   "outputs": [],
   "source": [
    "lens_model_list, lens_redshift_array, kwargs_halos, _ = realization.lensing_quantities()\n",
    "# the last argument is only used for lens models with numerically-tabulated deflection angles\n",
    "# note that len(lens_model_list) != len(realization.halos) because the lens_model_list includes \n",
    "# the negative convergence sheets \n",
    "\n",
    "from lenstronomy.LensModel.lens_model import LensModel\n",
    "\n",
    "# You should use the same astropy class created in pyhalo to do lensing computations\n",
    "astropy_instance = pyhalo.astropy_cosmo\n",
    "lens_model_halos_only = LensModel(lens_model_list, zlens, zsource, lens_redshift_array, cosmo=astropy_instance, multi_plane=True)\n",
    "\n",
    "_x = _y = np.linspace(-1.5, 1.5, 100)\n",
    "xx, yy = np.meshgrid(_x, _y)\n",
    "shape0 = xx.shape\n",
    "kappa_subs = lens_model_halos_only.kappa(xx.ravel(), yy.ravel(), kwargs_halos).reshape(shape0)\n",
    "\n",
    "fig = plt.figure(1)\n",
    "fig.set_size_inches(8,8)\n",
    "plt.imshow(kappa_subs, vmin=-0.1, vmax=0.1, cmap='bwr')"
   ]
  },
  {
   "cell_type": "markdown",
   "metadata": {},
   "source": [
    "## Most of the time you'll combine the substructure realization with a macromodel"
   ]
  },
  {
   "cell_type": "code",
   "execution_count": null,
   "metadata": {},
   "outputs": [],
   "source": [
    "# power law plus shear macromodel\n",
    "kwargs_macromodel = [{'theta_E': 1., 'center_x': 0., 'center_y': 0., 'e1': 0.2, 'e2': -0.1, 'gamma': 2.},\n",
    "                    {'gamma1': -0.04, 'gamma2': 0.09}]\n",
    "\n",
    "lens_model_list_macro = ['EPL', 'SHEAR']\n",
    "lens_model_list_full = lens_model_list_macro + lens_model_list\n",
    "lens_redshift_list_full = [zlens, zlens] + list(lens_redshift_array)\n",
    "kwargs_lens_full = kwargs_macromodel + kwargs_halos\n",
    "\n",
    "lens_model_full = LensModel(lens_model_list_full, zlens, zsource, lens_redshift_list_full, cosmo=astropy_instance, multi_plane=True)\n",
    "lens_model_macro = LensModel(lens_model_list_macro)\n",
    "\n",
    "kappa_full = lens_model_full.kappa(xx.ravel(), yy.ravel(), kwargs_lens_full).reshape(shape0)\n",
    "kappa_macro = lens_model_macro.kappa(xx.ravel(), yy.ravel(), kwargs_macromodel).reshape(shape0)"
   ]
  },
  {
   "cell_type": "code",
   "execution_count": null,
   "metadata": {},
   "outputs": [],
   "source": [
    "fig = plt.figure(1)\n",
    "fig.set_size_inches(8,8)\n",
    "nonlinear_convegence = kappa_full - kappa_macro\n",
    "plt.imshow(nonlinear_convegence, vmin=-0.1, vmax=0.1, cmap='bwr')"
   ]
  },
  {
   "cell_type": "code",
   "execution_count": null,
   "metadata": {},
   "outputs": [],
   "source": []
  }
 ],
 "metadata": {
  "kernelspec": {
   "display_name": "Python 3",
   "language": "python",
   "name": "python3"
  },
  "language_info": {
   "codemirror_mode": {
    "name": "ipython",
    "version": 3
   },
   "file_extension": ".py",
   "mimetype": "text/x-python",
   "name": "python",
   "nbconvert_exporter": "python",
   "pygments_lexer": "ipython3",
   "version": "3.6.5"
  }
 },
 "nbformat": 4,
 "nbformat_minor": 2
}

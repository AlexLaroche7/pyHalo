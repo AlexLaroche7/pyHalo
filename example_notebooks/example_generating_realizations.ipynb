{
 "cells": [
  {
   "cell_type": "code",
   "execution_count": 1,
   "metadata": {},
   "outputs": [],
   "source": [
    "import numpy as np\n",
    "from copy import deepcopy\n",
    "import matplotlib.pyplot as plt"
   ]
  },
  {
   "cell_type": "markdown",
   "metadata": {},
   "source": [
    "## Cold dark matter\n",
    "\n",
    "### To generate realizations with pyHalo you have to supply a number of keyword arguments to specify mass definitions, lens/source redshift, etc. This is made somewhat easier through the preset models, which provide functionality that one can immediately start using. \n",
    "\n",
    "### If you look inside the documentation in the preset_models file in pyHalo, you'll find additional details. We'll start with the most straightforward example: a CDM realization of subhalos and field halos along the line of sight:"
   ]
  },
  {
   "cell_type": "code",
   "execution_count": 2,
   "metadata": {},
   "outputs": [
    {
     "name": "stdout",
     "output_type": "stream",
     "text": [
      "Help on function CDM in module pyHalo.preset_models:\n",
      "\n",
      "CDM(z_lens, z_source, sigma_sub=0.025, shmf_log_slope=-1.9, cone_opening_angle_arcsec=6.0, log_mlow=6, log_mhigh=10, LOS_normalization=1.0, log_m_host=13.3, r_tidal='0.25Rs', mass_definition='TNFW', **kwargs_other)\n",
      "    This specifies the keywords for a CDM halo mass function model with a subhalo mass function described by a power law\n",
      "    and a line of sight halo mass function described by Sheth-Tormen.\n",
      "    \n",
      "    The subhalo mass function is parameterized as\n",
      "    d^N / dmdA = shmf_norm / m0 * (m/m0)^power_law_index * F(M_host, z)\n",
      "    \n",
      "    with a pivot mass m0=10^8. In this parameterization, shmf_norm has units of 1/area, or kpc^-2. CDM prediction is\n",
      "    something like 0.01 - 0.05, but this depends on the efficiency of stripping and what objects around the host\n",
      "    halo you consider a subhalos (are splashback halos subhalos?).\n",
      "    \n",
      "    The function F(M_host, z) factors the evolution of the projected number density of subhalos with host halo mass\n",
      "    and redshift out of the projected number density, so sigma_sub should be common to each host halo. The function\n",
      "    F(M_host, z) is calibrated with the semi-analytic modeling tool galacticus (https://arxiv.org/pdf/1008.1786.pdf):\n",
      "    \n",
      "    F(M_host, z) = a * log10(M_host / 10^13) + b * (1+z)\n",
      "    with a = 0.88 and b = 1.7.\n",
      "    \n",
      "    :param z_lens: main deflector redshift\n",
      "    :param z_source: sourcee redshift\n",
      "    :param sigma_sub: normalization of the subhalo mass function\n",
      "    :param shmf_log_slope: logarithmic slope of the subhalo mass function\n",
      "    :param cone_opening_angle_arcsec: the opening angle of the double cone rendering volume in arcsec\n",
      "    :param log_mlow: log10(minimum halo mass) rendered\n",
      "    :param log_mhigh: log10(maximum halo mass) rendered (mass definition is M200 w.r.t. critical density\n",
      "    :param LOS_normalization: rescaling of the line of sight halo mass function relative to Sheth-Tormen\n",
      "    :param log_m_host: log10 host halo mass in M_sun\n",
      "    :param r_tidal: subhalos are distributed following a cored NFW profile with a core radius r_tidal. This is intended\n",
      "    to account for tidal stripping of halos that pass close to the central galaxy\n",
      "    :param kwargs_other: allows for additional keyword arguments to be specified when creating realization\n",
      "    :param mass_definition: mass profile model for halos (TNFW is truncated NFW)\n",
      "    :return: a realization of CDM halos\n",
      "\n",
      "realization contains 2119 halos.\n"
     ]
    },
    {
     "data": {
      "text/plain": [
       "Text(0,0.5,'n(M)')"
      ]
     },
     "execution_count": 2,
     "metadata": {},
     "output_type": "execute_result"
    },
    {
     "data": {
      "image/png": "[encoded data removed]",
      "text/plain": [
       "<Figure size 432x288 with 1 Axes>"
      ]
     },
     "metadata": {},
     "output_type": "display_data"
    }
   ],
   "source": [
    "from pyHalo.preset_models import CDM\n",
    "help(CDM)\n",
    "zlens, zsource = 0.5, 2.5\n",
    "realizationCDM = CDM(zlens, zsource)\n",
    "print('realization contains '+str(len(realizationCDM.halos))+' halos.')\n",
    "halo_masses = [halo.mass for halo in realizationCDM.halos]\n",
    "N, m = np.histogram(halo_masses, bins=np.logspace(6, 10, 10))\n",
    "\n",
    "plt.loglog(m[0:-1], N)\n",
    "plt.xlabel('Halo mass '+r'$M_{\\odot}$', fontsize=16)\n",
    "plt.ylabel('n(M)', fontsize=16)"
   ]
  },
  {
   "cell_type": "markdown",
   "metadata": {},
   "source": [
    "## pyhalo is designed to be used with the software lenstronomy (https://github.com/sibirrer/lenstronomy)\n",
    "## In one step, you can go from a pyhalo realization to an instance of LensModel"
   ]
  },
  {
   "cell_type": "code",
   "execution_count": null,
   "metadata": {},
   "outputs": [],
   "source": [
    "lens_model_list, lens_redshift_array, kwargs_halos, _ = realizationCDM.lensing_quantities()\n",
    "# you can ignore the last argument unless you're using a profile with numerically-computed deflection angles\n",
    "\n",
    "from lenstronomy.LensModel.lens_model import LensModel\n",
    "# You should use the same astropy class created in pyhalo to do lensing computations\n",
    "astropy_instance = realizationCDM.astropy_instance\n",
    "lens_model_halos_only = LensModel(lens_model_list, zlens, zsource, lens_redshift_array, cosmo=astropy_instance, multi_plane=True)"
   ]
  },
  {
   "cell_type": "markdown",
   "metadata": {},
   "source": [
    "## You can then look at the multi-plane convergence from subhalos only..."
   ]
  },
  {
   "cell_type": "code",
   "execution_count": null,
   "metadata": {},
   "outputs": [],
   "source": [
    "npix = 100 \n",
    "_x = _y = np.linspace(-1.5, 1.5, npix)\n",
    "xx, yy = np.meshgrid(_x, _y)\n",
    "shape0 = xx.shape\n",
    "kappa_subs = lens_model_halos_only.kappa(xx.ravel(), yy.ravel(), kwargs_halos).reshape(shape0)\n",
    "\n",
    "fig = plt.figure(1)\n",
    "fig.set_size_inches(8,8)\n",
    "plt.imshow(kappa_subs, vmin=-0.1, vmax=0.1, cmap='bwr')"
   ]
  },
  {
   "cell_type": "markdown",
   "metadata": {},
   "source": [
    "### ... and the nonlinear effects that arise when the deflection angles from subhalos couple to those of a massive deflector. The code automatically generates negative convergence sheets that subtract off the mean mass you've rendered in halos, which is why some ares will appear underdense (blue) relative to the mean matter density, while other area (halos) are overdense."
   ]
  },
  {
   "cell_type": "code",
   "execution_count": null,
   "metadata": {},
   "outputs": [],
   "source": [
    "# power law plus shear macromodel\n",
    "kwargs_macromodel = [{'theta_E': 1., 'center_x': 0., 'center_y': 0., 'e1': 0.2, 'e2': -0.1, 'gamma': 2.},\n",
    "                    {'gamma1': -0.04, 'gamma2': 0.09}]\n",
    "\n",
    "lens_model_list_macro = ['EPL', 'SHEAR']\n",
    "lens_model_list_full = lens_model_list_macro + lens_model_list\n",
    "lens_redshift_list_full = [zlens, zlens] + list(lens_redshift_array)\n",
    "kwargs_lens_full = kwargs_macromodel + kwargs_halos\n",
    "\n",
    "lens_model_full = LensModel(lens_model_list_full, zlens, zsource, lens_redshift_list_full, cosmo=astropy_instance, multi_plane=True)\n",
    "lens_model_macro = LensModel(lens_model_list_macro)\n",
    "\n",
    "kappa_full = lens_model_full.kappa(xx.ravel(), yy.ravel(), kwargs_lens_full).reshape(shape0)\n",
    "kappa_macro = lens_model_macro.kappa(xx.ravel(), yy.ravel(), kwargs_macromodel).reshape(shape0)\n",
    "\n",
    "fig = plt.figure(1)\n",
    "fig.set_size_inches(8,8)\n",
    "kappa_subs_nonlinear = kappa_full - kappa_macro\n",
    "plt.imshow(kappa_subs_nonlinear, vmin=-0.1, vmax=0.1, cmap='bwr')"
   ]
  },
  {
   "cell_type": "markdown",
   "metadata": {},
   "source": [
    "# Warm dark matter"
   ]
  },
  {
   "cell_type": "markdown",
   "metadata": {},
   "source": [
    "### You can just as easily generate realizations of warm dark matter halos using the preset model WDMLovell2020. As you can probably surmise from the title, this is the parameterization of the halo mass function presented in Lovell 2020 (https://arxiv.org/pdf/2003.01125.pdf). The documentation in the preset_models gives additional details"
   ]
  },
  {
   "cell_type": "code",
   "execution_count": 14,
   "metadata": {},
   "outputs": [
    {
     "name": "stdout",
     "output_type": "stream",
     "text": [
      "Help on function WDMLovell2020 in module pyHalo.preset_models:\n",
      "\n",
      "WDMLovell2020(z_lens, z_source, log_mc, log_mlow=6.0, log_mhigh=10.0, a_wdm_los=2.3, b_wdm_los=0.8, c_wdm_los=-1.0, a_wdm_sub=4.2, b_wdm_sub=2.5, c_wdm_sub=-0.2, c_scale=60.0, c_power=-0.17, cone_opening_angle=6.0, sigma_sub=0.025, LOS_normalization=1.0, log_m_host=13.3, power_law_index=-1.9, r_tidal='0.25Rs', **kwargs_other)\n",
      "    This specifies the keywords for the Warm Dark Matter (WDM) halo mass function model presented by Lovell 2020\n",
      "    (https://arxiv.org/pdf/2003.01125.pdf)\n",
      "    \n",
      "    The differential halo mass function is described by four parameters:\n",
      "    1) log_mc - the log10 value of the half-mode mass, or the scale where the WDM mass function begins to deviate from CDM\n",
      "    2) a_wdm - scale factor for the characteristic mass scale (see below)\n",
      "    3) b_wdm - modifies the logarithmic slope of the WDM mass function (see below)\n",
      "    4) c_wdm - modifies the logarithmic slope of the WDM mass function (see below)\n",
      "    \n",
      "    The parameterization for the mass function is:\n",
      "    \n",
      "    n_wdm / n_cdm = (1 + (a_wdm * m_c / m)^b_wdm) ^ c_wdm\n",
      "    \n",
      "    where m_c = 10**log_mc and n_wdm and n_cdm are differential halo mass functions. Lovell 2020 find different fits\n",
      "    to subhalos and field halos. For field halos, (a_wdm, b_wdm, c_wdm) = (2.3, 0.8, -1) while for subhalos\n",
      "    (a_wdm, b_wdm, c_wdm) = (4.2, 2.5, -0.2).\n",
      "    \n",
      "    WDM models also have reduced concentrations relative to CDM halos because WDM structure collapse later when the Universe\n",
      "    is less dense. The suppresion to halo concentrations is implemented using the fitting function (Eqn. 17) presented by\n",
      "    Bose et al. (2016) (https://arxiv.org/pdf/1507.01998.pdf), where the concentration relative to CDM is given by\n",
      "    \n",
      "    c_wdm / c_cdm = (1+z)^B(z) * (1 + c_scale * m_c / m) ^ c_power\n",
      "    \n",
      "    where m_c is the same as the definition for the halo mass function and (c_scale, c_power) = (60, -0.17). Note that the\n",
      "    factor of 60 makes the effect on halo concentrations kick in on mass scales > m_c. This routine assumes the\n",
      "    a mass-concentration for CDM halos given by Diemer & Joyce 2019 (https://arxiv.org/pdf/1809.07326.pdf)\n",
      "    \n",
      "    :param z_lens: the lens redshift\n",
      "    :param z_source: the source redshift\n",
      "    :param log_mc: log10(half mode mass) in units M_sun (no little h)\n",
      "    :param log_mlow: log10(minimum halo mass) rendered\n",
      "    :param log_mhigh: log10(maximum halo mass) rendered (mass definition is M200 w.r.t. critical density\n",
      "    :param a_wdm_los: describes the line of sight WDM halo mass function (see above)\n",
      "    :param b_wdm_los: describes the line of sight WDM halo mass function (see above)\n",
      "    :param c_wdm_los: describes the line of sight WDM halo mass function (see above)\n",
      "    :param a_wdm_sub: defines the WDM subhalo mass function (see above)\n",
      "    :param b_wdm_sub: defines the WDM subhalo mass function (see above)\n",
      "    :param c_wdm_sub: defines the WDM subhalo mass function (see above)\n",
      "    :param c_scale: scale where concentrations in WDM deviate from CDM\n",
      "    :param c_power: modification to logarithmic slope of mass-concentration relation\n",
      "    :param cone_opening_angle: the opening angle in arcsec of the double cone geometry where halos are added\n",
      "    :param sigma_sub: normalization of the subhalo mass function (see description in CDM preset model)\n",
      "    :param LOS_normalization: rescaling of the line of sight halo mass function relative to Sheth-Tormen\n",
      "    :param log_m_host: log10 host halo mass in M_sun\n",
      "    :param power_law_index: logarithmic slope of the subhalo mass function\n",
      "    :param r_tidal: subhalos are distributed following a cored NFW profile with a core radius r_tidal. This is intended\n",
      "    to account for tidal stripping of halos that pass close to the central galaxy\n",
      "    :param kwargs_other: any other optional keyword arguments\n",
      "    \n",
      "    :return: a realization of WDM halos\n",
      "\n",
      "realization contains 71399 halos.\n"
     ]
    },
    {
     "data": {
      "text/plain": [
       "Text(0,0.5,'n(M)')"
      ]
     },
     "execution_count": 14,
     "metadata": {},
     "output_type": "execute_result"
    },
    {
     "data": {
      "image/png": "[encoded data removed]",
      "text/plain": [
       "<Figure size 432x288 with 1 Axes>"
      ]
     },
     "metadata": {},
     "output_type": "display_data"
    }
   ],
   "source": [
    "from pyHalo.preset_models import WDMLovell2020\n",
    "help(WDMLovell2020)\n",
    "log10_half_mode_mass = 7.2\n",
    "realizationWDM = WDMLovell2020(zlens, zsource, log10_half_mode_mass)\n",
    "\n",
    "print('realization contains '+str(len(realizationWDM.halos))+' halos.')\n",
    "halo_masses = [halo.mass for halo in realizationWDM.halos]\n",
    "Nwdm, mwdm = np.histogram(halo_masses, bins=np.logspace(6, 10, 10))\n",
    "\n",
    "plt.loglog(m[0:-1], N, color='k')\n",
    "plt.loglog(mwdm[0:-1], Nwdm, color='r')\n",
    "plt.xlabel('Halo mass '+r'$M_{\\odot}$', fontsize=16)\n",
    "plt.ylabel('n(M)', fontsize=16)"
   ]
  },
  {
   "cell_type": "code",
   "execution_count": null,
   "metadata": {},
   "outputs": [],
   "source": [
    "lens_model_list_WDM, lens_redshift_array_WDM, kwargs_halos_WDM, _ = realizationWDM.lensing_quantities()\n",
    "\n",
    "lens_model_list_full_WDM = lens_model_list_macro + lens_model_list_WDM\n",
    "lens_redshift_list_full_WDM = [zlens, zlens] + list(lens_redshift_array_WDM)\n",
    "kwargs_lens_full_WDM = kwargs_macromodel + kwargs_halos_WDM\n",
    "\n",
    "lens_model_full_WDM = LensModel(lens_model_list_full_WDM, zlens, zsource, lens_redshift_list_full_WDM, \n",
    "                                cosmo=astropy_instance, multi_plane=True)\n",
    "\n",
    "kappa_full_WDM = lens_model_full_WDM.kappa(xx.ravel(), yy.ravel(), kwargs_lens_full_WDM).reshape(shape0)\n",
    "\n",
    "fig = plt.figure(1)\n",
    "fig.set_size_inches(8,8)\n",
    "plt.imshow(kappa_full_WDM - kappa_macro, vmin=-0.1, vmax=0.1, cmap='bwr')"
   ]
  },
  {
   "cell_type": "code",
   "execution_count": null,
   "metadata": {},
   "outputs": [],
   "source": []
  }
 ],
 "metadata": {
  "kernelspec": {
   "display_name": "Python 3",
   "language": "python",
   "name": "python3"
  },
  "language_info": {
   "codemirror_mode": {
    "name": "ipython",
    "version": 3
   },
   "file_extension": ".py",
   "mimetype": "text/x-python",
   "name": "python",
   "nbconvert_exporter": "python",
   "pygments_lexer": "ipython3",
   "version": "3.6.5"
  }
 },
 "nbformat": 4,
 "nbformat_minor": 2
}
